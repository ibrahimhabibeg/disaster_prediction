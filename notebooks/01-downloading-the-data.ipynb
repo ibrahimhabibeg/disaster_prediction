{
 "cells": [
  {
   "cell_type": "code",
   "id": "initial_id",
   "metadata": {
    "collapsed": true,
    "ExecuteTime": {
     "end_time": "2025-02-08T13:47:46.485291Z",
     "start_time": "2025-02-08T13:47:46.404831Z"
    }
   },
   "source": [
    "import os\n",
    "import kaggle"
   ],
   "outputs": [],
   "execution_count": 1
  },
  {
   "metadata": {
    "ExecuteTime": {
     "end_time": "2025-02-08T13:47:49.099235Z",
     "start_time": "2025-02-08T13:47:46.488083Z"
    }
   },
   "cell_type": "code",
   "source": [
    "RAW_DATA_PATH = '../data/raw'\n",
    "CONTEST_NAME = 'nlp-getting-started'\n",
    "\n",
    "kaggle.api.competition_download_files(CONTEST_NAME, path=RAW_DATA_PATH)"
   ],
   "id": "b068cc7e30ef31e2",
   "outputs": [],
   "execution_count": 2
  },
  {
   "metadata": {
    "ExecuteTime": {
     "end_time": "2025-02-08T13:47:49.182167Z",
     "start_time": "2025-02-08T13:47:49.174890Z"
    }
   },
   "cell_type": "code",
   "source": [
    "from zipfile import ZipFile\n",
    "\n",
    "ZIP_FILE_PATH = os.path.join(RAW_DATA_PATH, CONTEST_NAME + '.zip')\n",
    "\n",
    "with ZipFile(ZIP_FILE_PATH, 'r') as zip_ref:\n",
    "    zip_ref.extractall(RAW_DATA_PATH)"
   ],
   "id": "ddc02342bf8eb9c1",
   "outputs": [],
   "execution_count": 3
  },
  {
   "metadata": {
    "ExecuteTime": {
     "end_time": "2025-02-08T13:48:01.873681Z",
     "start_time": "2025-02-08T13:48:01.871233Z"
    }
   },
   "cell_type": "code",
   "source": "os.remove(ZIP_FILE_PATH)",
   "id": "76d2a86c7cbdddd7",
   "outputs": [],
   "execution_count": 5
  }
 ],
 "metadata": {
  "kernelspec": {
   "display_name": "Python 3",
   "language": "python",
   "name": "python3"
  },
  "language_info": {
   "codemirror_mode": {
    "name": "ipython",
    "version": 2
   },
   "file_extension": ".py",
   "mimetype": "text/x-python",
   "name": "python",
   "nbconvert_exporter": "python",
   "pygments_lexer": "ipython2",
   "version": "2.7.6"
  }
 },
 "nbformat": 4,
 "nbformat_minor": 5
}
