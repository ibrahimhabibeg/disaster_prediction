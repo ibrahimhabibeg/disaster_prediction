{
 "cells": [
  {
   "metadata": {
    "collapsed": true,
    "ExecuteTime": {
     "end_time": "2025-02-09T13:33:03.019715Z",
     "start_time": "2025-02-09T13:33:02.507304Z"
    }
   },
   "cell_type": "code",
   "source": [
    "import pandas as pd\n",
    "from disaster_prediction.dataset import load_raw_train_df, load_raw_val_df\n",
    "\n",
    "train_df = load_raw_train_df()\n",
    "val_df = load_raw_val_df()\n",
    "\n",
    "train_df.shape[0], val_df.shape[0]"
   ],
   "id": "initial_id",
   "outputs": [
    {
     "data": {
      "text/plain": [
       "(6852, 761)"
      ]
     },
     "execution_count": 1,
     "metadata": {},
     "output_type": "execute_result"
    }
   ],
   "execution_count": 1
  },
  {
   "metadata": {
    "ExecuteTime": {
     "end_time": "2025-02-09T13:33:08.078033Z",
     "start_time": "2025-02-09T13:33:05.227205Z"
    }
   },
   "cell_type": "code",
   "source": [
    "from transformers import BertTokenizer\n",
    "import torch\n",
    "from torch.utils.data import TensorDataset\n",
    "\n",
    "MODEL_NAME = 'bert-base-uncased'\n",
    "\n",
    "def create_dataset(df: pd.DataFrame, include_labels=True) -> TensorDataset:\n",
    "    tokenizer = BertTokenizer.from_pretrained(MODEL_NAME, do_lower_case=True)\n",
    "    encoded_dict = tokenizer(df['text'].tolist(), padding=True, truncation=True, return_tensors='pt')\n",
    "    input_ids = encoded_dict['input_ids']\n",
    "    attention_mask = encoded_dict['attention_mask']\n",
    "    if include_labels:\n",
    "        labels = torch.tensor(df['target'].tolist())\n",
    "        return TensorDataset(input_ids, attention_mask, labels)\n",
    "    else:\n",
    "        return TensorDataset(input_ids, attention_mask)\n",
    "\n",
    "train_dataset = create_dataset(train_df)\n",
    "val_dataset = create_dataset(val_df)"
   ],
   "id": "57def12e5d32d67a",
   "outputs": [],
   "execution_count": 2
  },
  {
   "metadata": {
    "ExecuteTime": {
     "end_time": "2025-02-09T13:33:08.770961Z",
     "start_time": "2025-02-09T13:33:08.766544Z"
    }
   },
   "cell_type": "code",
   "source": "len(train_dataset), len(val_dataset)",
   "id": "af4e51ee795c7ada",
   "outputs": [
    {
     "data": {
      "text/plain": [
       "(6852, 761)"
      ]
     },
     "execution_count": 3,
     "metadata": {},
     "output_type": "execute_result"
    }
   ],
   "execution_count": 3
  },
  {
   "metadata": {
    "ExecuteTime": {
     "end_time": "2025-02-09T13:33:12.250857Z",
     "start_time": "2025-02-09T13:33:12.247236Z"
    }
   },
   "cell_type": "code",
   "source": [
    "from torch.utils.data import DataLoader, RandomSampler, SequentialSampler\n",
    "\n",
    "BATCH_SIZE = 32\n",
    "\n",
    "train_dataloader = DataLoader(train_dataset, sampler=RandomSampler(train_dataset), batch_size=BATCH_SIZE)\n",
    "val_dataloader = DataLoader(val_dataset, sampler=SequentialSampler(val_dataset), batch_size=BATCH_SIZE)"
   ],
   "id": "bebc275985271119",
   "outputs": [],
   "execution_count": 4
  },
  {
   "metadata": {
    "ExecuteTime": {
     "end_time": "2025-02-09T13:33:14.264990Z",
     "start_time": "2025-02-09T13:33:14.242155Z"
    }
   },
   "cell_type": "code",
   "source": [
    "if torch.cuda.is_available():\n",
    "    device = torch.device('cuda')\n",
    "    print('Using cuda')\n",
    "elif torch.backends.mps.is_available():\n",
    "    device = torch.device('mps')\n",
    "    print('Using mps')\n",
    "else:\n",
    "    device = torch.device('cpu')\n",
    "    print('Using cpu')"
   ],
   "id": "c857a5eab784ca59",
   "outputs": [
    {
     "name": "stdout",
     "output_type": "stream",
     "text": [
      "Using mps\n"
     ]
    }
   ],
   "execution_count": 5
  },
  {
   "metadata": {
    "ExecuteTime": {
     "end_time": "2025-02-09T13:33:19.533401Z",
     "start_time": "2025-02-09T13:33:18.292059Z"
    }
   },
   "cell_type": "code",
   "source": [
    "from transformers import BertForSequenceClassification\n",
    "from torchinfo import summary\n",
    "\n",
    "model = BertForSequenceClassification.from_pretrained(MODEL_NAME, num_labels=2)\n",
    "model = model.to(device)\n",
    "summary(model)"
   ],
   "id": "36c09fef19ce8183",
   "outputs": [
    {
     "name": "stderr",
     "output_type": "stream",
     "text": [
      "Some weights of BertForSequenceClassification were not initialized from the model checkpoint at bert-base-uncased and are newly initialized: ['classifier.bias', 'classifier.weight']\n",
      "You should probably TRAIN this model on a down-stream task to be able to use it for predictions and inference.\n"
     ]
    },
    {
     "data": {
      "text/plain": [
       "=====================================================================================\n",
       "Layer (type:depth-idx)                                       Param #\n",
       "=====================================================================================\n",
       "BertForSequenceClassification                                --\n",
       "├─BertModel: 1-1                                             --\n",
       "│    └─BertEmbeddings: 2-1                                   --\n",
       "│    │    └─Embedding: 3-1                                   23,440,896\n",
       "│    │    └─Embedding: 3-2                                   393,216\n",
       "│    │    └─Embedding: 3-3                                   1,536\n",
       "│    │    └─LayerNorm: 3-4                                   1,536\n",
       "│    │    └─Dropout: 3-5                                     --\n",
       "│    └─BertEncoder: 2-2                                      --\n",
       "│    │    └─ModuleList: 3-6                                  85,054,464\n",
       "│    └─BertPooler: 2-3                                       --\n",
       "│    │    └─Linear: 3-7                                      590,592\n",
       "│    │    └─Tanh: 3-8                                        --\n",
       "├─Dropout: 1-2                                               --\n",
       "├─Linear: 1-3                                                1,538\n",
       "=====================================================================================\n",
       "Total params: 109,483,778\n",
       "Trainable params: 109,483,778\n",
       "Non-trainable params: 0\n",
       "====================================================================================="
      ]
     },
     "execution_count": 6,
     "metadata": {},
     "output_type": "execute_result"
    }
   ],
   "execution_count": 6
  },
  {
   "metadata": {
    "ExecuteTime": {
     "end_time": "2025-02-09T13:39:18.363473Z",
     "start_time": "2025-02-09T13:33:38.063073Z"
    }
   },
   "cell_type": "code",
   "source": [
    "from tqdm.auto import tqdm\n",
    "from torch.optim import AdamW\n",
    "from transformers import get_scheduler\n",
    "from sklearn.metrics import f1_score, accuracy_score, recall_score, precision_score\n",
    "import numpy as np\n",
    "\n",
    "NUM_EPOCHS = 4\n",
    "LEARNING_RATE = 5e-5\n",
    "\n",
    "optimizer = AdamW(model.parameters(), lr=LEARNING_RATE)\n",
    "num_training_steps = NUM_EPOCHS * len(train_dataloader)\n",
    "lr_scheduler = get_scheduler(\n",
    "    name=\"linear\", optimizer=optimizer, num_warmup_steps=0, num_training_steps=num_training_steps\n",
    ")\n",
    "\n",
    "progress_bar = tqdm(range(num_training_steps))\n",
    "\n",
    "accuracy_list = []\n",
    "precision_list = []\n",
    "recall_list = []\n",
    "f1_list = []\n",
    "\n",
    "for epoch in range(NUM_EPOCHS):\n",
    "    model.train()\n",
    "    for batch in train_dataloader:\n",
    "        batch = [t.to(device) for t in batch]\n",
    "        outputs = model(batch[0], attention_mask=batch[1], labels=batch[2])\n",
    "        loss = outputs.loss\n",
    "        loss.backward()\n",
    "        optimizer.step()\n",
    "        lr_scheduler.step()\n",
    "        optimizer.zero_grad()\n",
    "        progress_bar.update(1)\n",
    "\n",
    "    model.eval()\n",
    "    full_predictions = []\n",
    "    full_references = []\n",
    "    for batch in val_dataloader:\n",
    "        batch = [t.to(device) for t in batch]\n",
    "        outputs = model(batch[0], attention_mask=batch[1], labels=batch[2])\n",
    "        logits = outputs.logits.detach().to('cpu').numpy()\n",
    "        predictions = np.argmax(logits, axis=-1).tolist()\n",
    "        full_predictions += predictions\n",
    "        full_references += batch[2].to('cpu').tolist()\n",
    "\n",
    "    accuracy = accuracy_score(y_pred=full_predictions, y_true=full_references)\n",
    "    f1 = f1_score(y_pred=full_predictions, y_true=full_references)\n",
    "    recall = recall_score(y_pred=full_predictions, y_true=full_references)\n",
    "    precision = precision_score(y_pred=full_predictions, y_true=full_references)\n",
    "\n",
    "    print(f'Epoch: {epoch+1}')\n",
    "    print(f'Accuracy: {accuracy}')\n",
    "    print(f'f1: {f1}')\n",
    "    print(f'Recall: {recall}')\n",
    "    print(f'Precision: {precision}')\n",
    "\n",
    "    accuracy_list.append(accuracy)\n",
    "    precision_list.append(precision)\n",
    "    recall_list.append(recall)\n",
    "    f1_list.append(f1)"
   ],
   "id": "27a1c80681c038fe",
   "outputs": [
    {
     "data": {
      "text/plain": [
       "  0%|          | 0/860 [00:00<?, ?it/s]"
      ],
      "application/vnd.jupyter.widget-view+json": {
       "version_major": 2,
       "version_minor": 0,
       "model_id": "91973fc185514adc820b66bf01107934"
      }
     },
     "metadata": {},
     "output_type": "display_data"
    },
    {
     "name": "stdout",
     "output_type": "stream",
     "text": [
      "Epoch: 1\n",
      "Accuracy: 0.8226018396846255\n",
      "f1: 0.7969924812030075\n",
      "Recall: 0.7748538011695907\n",
      "Precision: 0.8204334365325078\n",
      "Epoch: 2\n",
      "Accuracy: 0.8291721419185283\n",
      "f1: 0.7936507936507936\n",
      "Recall: 0.7309941520467836\n",
      "Precision: 0.8680555555555556\n",
      "Epoch: 3\n",
      "Accuracy: 0.8160315374507228\n",
      "f1: 0.7910447761194029\n",
      "Recall: 0.7748538011695907\n",
      "Precision: 0.8079268292682927\n",
      "Epoch: 4\n",
      "Accuracy: 0.8212877792378449\n",
      "f1: 0.7957957957957958\n",
      "Recall: 0.7748538011695907\n",
      "Precision: 0.8179012345679012\n"
     ]
    }
   ],
   "execution_count": 7
  },
  {
   "metadata": {
    "ExecuteTime": {
     "end_time": "2025-02-09T13:39:26.444608Z",
     "start_time": "2025-02-09T13:39:25.985662Z"
    }
   },
   "cell_type": "code",
   "source": [
    "MODEL_PATH = '../models/bert-base-uncased-on-text.pt'\n",
    "\n",
    "torch.save(model, MODEL_PATH)"
   ],
   "id": "c22ba36b6d5fcfa1",
   "outputs": [],
   "execution_count": 8
  },
  {
   "metadata": {
    "ExecuteTime": {
     "end_time": "2025-02-09T13:40:43.040290Z",
     "start_time": "2025-02-09T13:40:31.103963Z"
    }
   },
   "cell_type": "code",
   "source": [
    "from disaster_prediction.dataset import load_raw_test_df\n",
    "\n",
    "def evaluate_df(df:pd.DataFrame):\n",
    "    model = torch.load(MODEL_PATH)\n",
    "    dataset = create_dataset(df, include_labels=False)\n",
    "    dataloader = DataLoader(dataset, batch_size=BATCH_SIZE, sampler=SequentialSampler(dataset))\n",
    "    predictions = []\n",
    "    model.eval()\n",
    "    for batch in dataloader:\n",
    "        batch = [t.to(device) for t in batch]\n",
    "        with torch.no_grad():\n",
    "            outputs = model(input_ids=batch[0], attention_mask=batch[1])\n",
    "        logits = outputs.logits.detach().to('cpu').numpy()\n",
    "        predictions += np.argmax(logits, axis=-1).tolist()\n",
    "    return pd.DataFrame({'id': df['id'], 'target': predictions})\n",
    "\n",
    "results = evaluate_df(load_raw_test_df())\n",
    "results"
   ],
   "id": "123d38db83dc1283",
   "outputs": [
    {
     "name": "stderr",
     "output_type": "stream",
     "text": [
      "/var/folders/vp/fng1b7k14nq4khc8kp2lp6wh0000gn/T/ipykernel_88600/1831210163.py:4: FutureWarning: You are using `torch.load` with `weights_only=False` (the current default value), which uses the default pickle module implicitly. It is possible to construct malicious pickle data which will execute arbitrary code during unpickling (See https://github.com/pytorch/pytorch/blob/main/SECURITY.md#untrusted-models for more details). In a future release, the default value for `weights_only` will be flipped to `True`. This limits the functions that could be executed during unpickling. Arbitrary objects will no longer be allowed to be loaded via this mode unless they are explicitly allowlisted by the user via `torch.serialization.add_safe_globals`. We recommend you start setting `weights_only=True` for any use case where you don't have full control of the loaded file. Please open an issue on GitHub for any issues related to this experimental feature.\n",
      "  model = torch.load(MODEL_PATH)\n"
     ]
    },
    {
     "data": {
      "text/plain": [
       "         id  target\n",
       "0         0       1\n",
       "1         2       1\n",
       "2         3       1\n",
       "3         9       1\n",
       "4        11       1\n",
       "...     ...     ...\n",
       "3258  10861       1\n",
       "3259  10865       1\n",
       "3260  10868       1\n",
       "3261  10874       1\n",
       "3262  10875       1\n",
       "\n",
       "[3263 rows x 2 columns]"
      ],
      "text/html": [
       "<div>\n",
       "<style scoped>\n",
       "    .dataframe tbody tr th:only-of-type {\n",
       "        vertical-align: middle;\n",
       "    }\n",
       "\n",
       "    .dataframe tbody tr th {\n",
       "        vertical-align: top;\n",
       "    }\n",
       "\n",
       "    .dataframe thead th {\n",
       "        text-align: right;\n",
       "    }\n",
       "</style>\n",
       "<table border=\"1\" class=\"dataframe\">\n",
       "  <thead>\n",
       "    <tr style=\"text-align: right;\">\n",
       "      <th></th>\n",
       "      <th>id</th>\n",
       "      <th>target</th>\n",
       "    </tr>\n",
       "  </thead>\n",
       "  <tbody>\n",
       "    <tr>\n",
       "      <th>0</th>\n",
       "      <td>0</td>\n",
       "      <td>1</td>\n",
       "    </tr>\n",
       "    <tr>\n",
       "      <th>1</th>\n",
       "      <td>2</td>\n",
       "      <td>1</td>\n",
       "    </tr>\n",
       "    <tr>\n",
       "      <th>2</th>\n",
       "      <td>3</td>\n",
       "      <td>1</td>\n",
       "    </tr>\n",
       "    <tr>\n",
       "      <th>3</th>\n",
       "      <td>9</td>\n",
       "      <td>1</td>\n",
       "    </tr>\n",
       "    <tr>\n",
       "      <th>4</th>\n",
       "      <td>11</td>\n",
       "      <td>1</td>\n",
       "    </tr>\n",
       "    <tr>\n",
       "      <th>...</th>\n",
       "      <td>...</td>\n",
       "      <td>...</td>\n",
       "    </tr>\n",
       "    <tr>\n",
       "      <th>3258</th>\n",
       "      <td>10861</td>\n",
       "      <td>1</td>\n",
       "    </tr>\n",
       "    <tr>\n",
       "      <th>3259</th>\n",
       "      <td>10865</td>\n",
       "      <td>1</td>\n",
       "    </tr>\n",
       "    <tr>\n",
       "      <th>3260</th>\n",
       "      <td>10868</td>\n",
       "      <td>1</td>\n",
       "    </tr>\n",
       "    <tr>\n",
       "      <th>3261</th>\n",
       "      <td>10874</td>\n",
       "      <td>1</td>\n",
       "    </tr>\n",
       "    <tr>\n",
       "      <th>3262</th>\n",
       "      <td>10875</td>\n",
       "      <td>1</td>\n",
       "    </tr>\n",
       "  </tbody>\n",
       "</table>\n",
       "<p>3263 rows × 2 columns</p>\n",
       "</div>"
      ]
     },
     "execution_count": 13,
     "metadata": {},
     "output_type": "execute_result"
    }
   ],
   "execution_count": 13
  },
  {
   "metadata": {
    "ExecuteTime": {
     "end_time": "2025-02-09T13:40:44.671262Z",
     "start_time": "2025-02-09T13:40:44.663872Z"
    }
   },
   "cell_type": "code",
   "source": "results['target'].value_counts()",
   "id": "e9a2e2ad7b322de5",
   "outputs": [
    {
     "data": {
      "text/plain": [
       "target\n",
       "0    1908\n",
       "1    1355\n",
       "Name: count, dtype: int64"
      ]
     },
     "execution_count": 14,
     "metadata": {},
     "output_type": "execute_result"
    }
   ],
   "execution_count": 14
  },
  {
   "metadata": {
    "ExecuteTime": {
     "end_time": "2025-02-09T13:42:16.734281Z",
     "start_time": "2025-02-09T13:42:16.729285Z"
    }
   },
   "cell_type": "code",
   "source": [
    "SUBMISSION_PATH = '../data/submissions/bert-base-uncased-on-text-only.csv'\n",
    "\n",
    "results.to_csv(SUBMISSION_PATH, index=False)"
   ],
   "id": "85ba57f61169a1d7",
   "outputs": [],
   "execution_count": 16
  }
 ],
 "metadata": {
  "kernelspec": {
   "display_name": "Python 3",
   "language": "python",
   "name": "python3"
  },
  "language_info": {
   "codemirror_mode": {
    "name": "ipython",
    "version": 2
   },
   "file_extension": ".py",
   "mimetype": "text/x-python",
   "name": "python",
   "nbconvert_exporter": "python",
   "pygments_lexer": "ipython2",
   "version": "2.7.6"
  }
 },
 "nbformat": 4,
 "nbformat_minor": 5
}
