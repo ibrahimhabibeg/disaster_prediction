{
 "cells": [
  {
   "cell_type": "code",
   "id": "initial_id",
   "metadata": {
    "collapsed": true,
    "ExecuteTime": {
     "end_time": "2025-02-08T21:06:10.771387Z",
     "start_time": "2025-02-08T21:06:10.752574Z"
    }
   },
   "source": [
    "from disaster_prediction.dataset import load_full_raw_train_df\n",
    "df = load_full_raw_train_df()\n",
    "\n",
    "TRAIN_NO_SAMPLES = round(0.9 * df.shape[0])\n",
    "\n",
    "train = df.sample(TRAIN_NO_SAMPLES, random_state=42)\n",
    "val = df.drop(train.index)\n",
    "\n",
    "train.shape[0], val.shape[0]"
   ],
   "outputs": [
    {
     "data": {
      "text/plain": [
       "(6852, 761)"
      ]
     },
     "execution_count": 3,
     "metadata": {},
     "output_type": "execute_result"
    }
   ],
   "execution_count": 3
  },
  {
   "metadata": {
    "ExecuteTime": {
     "end_time": "2025-02-08T21:07:27.592855Z",
     "start_time": "2025-02-08T21:07:27.569718Z"
    }
   },
   "cell_type": "code",
   "source": [
    "train.to_csv('../data/interim/train.csv')\n",
    "val.to_csv('../data/interim/val.csv')"
   ],
   "id": "3055a519572e31f7",
   "outputs": [],
   "execution_count": 5
  }
 ],
 "metadata": {
  "kernelspec": {
   "display_name": "Python 3",
   "language": "python",
   "name": "python3"
  },
  "language_info": {
   "codemirror_mode": {
    "name": "ipython",
    "version": 2
   },
   "file_extension": ".py",
   "mimetype": "text/x-python",
   "name": "python",
   "nbconvert_exporter": "python",
   "pygments_lexer": "ipython2",
   "version": "2.7.6"
  }
 },
 "nbformat": 4,
 "nbformat_minor": 5
}
